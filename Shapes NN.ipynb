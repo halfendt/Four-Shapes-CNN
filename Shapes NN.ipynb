{
 "cells": [
  {
   "cell_type": "code",
   "execution_count": 71,
   "metadata": {},
   "outputs": [],
   "source": [
    "import cv2, os\n",
    "import numpy as np\n",
    "import matplotlib.pyplot as plt"
   ]
  },
  {
   "cell_type": "code",
   "execution_count": 2,
   "metadata": {},
   "outputs": [
    {
     "name": "stdout",
     "output_type": "stream",
     "text": [
      "Getting data for:  square\n",
      "Getting data for:  circle\n",
      "Getting data for:  star\n",
      "Getting data for:  triangle\n"
     ]
    }
   ],
   "source": [
    "#create lists to save the labels (the name of the shape)\n",
    "labels = []\n",
    "images = []\n",
    "shape_dir = '/mnt/c/Users/DeWayne Halfen/Documents/Data Science/DataSets/four-shapes/'\n",
    "shapes = ['square', 'circle', 'star', 'triangle']\n",
    "\n",
    "#iterate through each shape\n",
    "for shape in shapes:\n",
    "    print('Getting data for: ', shape)\n",
    "    #iterate through each file in the folder\n",
    "    for path in os.listdir(shape_dir+shape):\n",
    "        #add the image to the list of images\n",
    "        images.append(cv2.imread(shape_dir+shape+'/'+path, 0))\n",
    "        #add an integer to the labels list \n",
    "        labels.append(shapes.index(shape))"
   ]
  },
  {
   "cell_type": "code",
   "execution_count": 72,
   "metadata": {},
   "outputs": [
    {
     "data": {
      "text/plain": [
       "(14970, 200, 200)"
      ]
     },
     "execution_count": 72,
     "metadata": {},
     "output_type": "execute_result"
    }
   ],
   "source": [
    "image_array = np.array(images)\n",
    "label_array = np.array(labels)\n",
    "image_array.shape"
   ]
  },
  {
   "cell_type": "code",
   "execution_count": 4,
   "metadata": {},
   "outputs": [],
   "source": [
    "#break data into training and test sets\n",
    "train_test_ratio, to_train = 5,0\n",
    "train_images, test_images, train_labels, test_labels = [],[],[],[]\n",
    "for image, label in zip(images, labels):\n",
    "    if to_train < train_test_ratio:\n",
    "        train_images.append(image)\n",
    "        train_labels.append(label)\n",
    "        to_train += 1\n",
    "    else:\n",
    "        test_images.append(image)\n",
    "        test_labels.append(label)\n",
    "        to_train = 0"
   ]
  },
  {
   "cell_type": "code",
   "execution_count": 73,
   "metadata": {},
   "outputs": [],
   "source": [
    "from sklearn.model_selection import train_test_split\n",
    "X_train, X_test, y_train, y_test = train_test_split(image_array, label_array, test_size = 0.2, random_state=42)"
   ]
  },
  {
   "cell_type": "code",
   "execution_count": 74,
   "metadata": {},
   "outputs": [
    {
     "name": "stdout",
     "output_type": "stream",
     "text": [
      "Training data shape :  (11976, 200, 200) (11976,)\n",
      "Testing data shape :  (2994, 200, 200) (2994,)\n"
     ]
    }
   ],
   "source": [
    "print('Training data shape : ', X_train.shape, y_train.shape)\n",
    "print('Testing data shape : ', X_test.shape, y_test.shape)"
   ]
  },
  {
   "cell_type": "code",
   "execution_count": 75,
   "metadata": {},
   "outputs": [
    {
     "name": "stdout",
     "output_type": "stream",
     "text": [
      "Total number of outputs :  4\n",
      "Output classes :  [0 1 2 3]\n"
     ]
    }
   ],
   "source": [
    "classes = np.unique(y_train)\n",
    "nClasses = len(classes)\n",
    "print('Total number of outputs : ', nClasses)\n",
    "print('Output classes : ', classes)"
   ]
  },
  {
   "cell_type": "code",
   "execution_count": 76,
   "metadata": {},
   "outputs": [
    {
     "data": {
      "text/plain": [
       "<matplotlib.image.AxesImage at 0x7ff86b14ef60>"
      ]
     },
     "execution_count": 76,
     "metadata": {},
     "output_type": "execute_result"
    },
    {
     "data": {
      "image/png": "[encoded data removed]",
      "text/plain": [
       "<Figure size 432x288 with 1 Axes>"
      ]
     },
     "metadata": {},
     "output_type": "display_data"
    }
   ],
   "source": [
    "plt.imshow(X_train[0,:,:], cmap='gray')"
   ]
  },
  {
   "cell_type": "code",
   "execution_count": 77,
   "metadata": {},
   "outputs": [
    {
     "name": "stdout",
     "output_type": "stream",
     "text": [
      "Training data shape :  (11976, 200, 200, 1) (11976,)\n",
      "Testing data shape :  (2994, 200, 200, 1) (2994,)\n"
     ]
    }
   ],
   "source": [
    "X_train = X_train.reshape(-1, 200, 200, 1)\n",
    "X_test = X_test.reshape(-1, 200, 200, 1)\n",
    "print('Training data shape : ', X_train.shape, y_train.shape)\n",
    "print('Testing data shape : ', X_test.shape, y_test.shape)"
   ]
  },
  {
   "cell_type": "code",
   "execution_count": 78,
   "metadata": {},
   "outputs": [],
   "source": [
    "X_train = X_train.astype('float32')\n",
    "X_test = X_test.astype('float32')\n",
    "X_train = X_train / 255.\n",
    "X_test = X_test / 255."
   ]
  },
  {
   "cell_type": "code",
   "execution_count": 79,
   "metadata": {},
   "outputs": [
    {
     "name": "stdout",
     "output_type": "stream",
     "text": [
      "Original label: 0\n",
      "After conversion to one-hot: [1. 0. 0. 0.]\n"
     ]
    }
   ],
   "source": [
    "from keras.utils import to_categorical\n",
    "\n",
    "# Change the labels from categorical to one-hot encoding\n",
    "y_train_one_hot = to_categorical(y_train)\n",
    "y_test_one_hot = to_categorical(y_test)\n",
    "\n",
    "# Display the change for category label using one-hot encoding\n",
    "print('Original label:', y_train[0])\n",
    "print('After conversion to one-hot:', y_train_one_hot[0])"
   ]
  },
  {
   "cell_type": "code",
   "execution_count": 80,
   "metadata": {},
   "outputs": [
    {
     "data": {
      "text/plain": [
       "((11976, 200, 200, 1), (2994, 200, 200, 1), (11976, 4), (2994, 4))"
      ]
     },
     "execution_count": 80,
     "metadata": {},
     "output_type": "execute_result"
    }
   ],
   "source": [
    "X_train.shape,X_test.shape,y_train_one_hot.shape,y_test_one_hot.shape"
   ]
  },
  {
   "cell_type": "code",
   "execution_count": 85,
   "metadata": {},
   "outputs": [],
   "source": [
    "# Import necessary modules\n",
    "import keras\n",
    "import theano.ifelse\n",
    "from keras.models import Sequential, Input, Model\n",
    "from keras.layers import Dense, Dropout, Flatten\n",
    "from keras.layers import Conv2D, MaxPooling2D\n",
    "from keras.layers.normalization import BatchNormalization\n",
    "from keras.layers.advanced_activations import LeakyReLU"
   ]
  },
  {
   "cell_type": "code",
   "execution_count": 93,
   "metadata": {},
   "outputs": [],
   "source": [
    "model = Sequential()\n",
    "model.add(Conv2D(4, kernel_size=(5, 5), activation='linear', input_shape=(200,200,1), padding='same'))\n",
    "model.add(LeakyReLU(alpha=0.1))\n",
    "model.add(MaxPooling2D(pool_size=(4, 4), padding='same'))\n",
    "model.add(Dropout(0.25))\n",
    "model.add(Conv2D(8, kernel_size=(5, 5), activation='linear', padding='same'))\n",
    "model.add(LeakyReLU(alpha=0.1))\n",
    "model.add(MaxPooling2D(pool_size=(4, 4), padding='same'))\n",
    "model.add(Dropout(0.4))\n",
    "model.add(Flatten())\n",
    "model.add(Dense(8, activation='linear'))\n",
    "model.add(LeakyReLU(alpha=0.1))\n",
    "model.add(Dropout(0.25))\n",
    "model.add(Dense(4, activation='softmax'))"
   ]
  },
  {
   "cell_type": "code",
   "execution_count": 94,
   "metadata": {},
   "outputs": [],
   "source": [
    "model.compile(optimizer='adam',\n",
    "              loss='categorical_crossentropy',\n",
    "              metrics=['accuracy'])"
   ]
  },
  {
   "cell_type": "code",
   "execution_count": 95,
   "metadata": {},
   "outputs": [
    {
     "name": "stdout",
     "output_type": "stream",
     "text": [
      "_________________________________________________________________\n",
      "Layer (type)                 Output Shape              Param #   \n",
      "=================================================================\n",
      "conv2d_21 (Conv2D)           (None, 200, 200, 4)       104       \n",
      "_________________________________________________________________\n",
      "leaky_re_lu_27 (LeakyReLU)   (None, 200, 200, 4)       0         \n",
      "_________________________________________________________________\n",
      "max_pooling2d_21 (MaxPooling (None, 50, 50, 4)         0         \n",
      "_________________________________________________________________\n",
      "dropout_12 (Dropout)         (None, 50, 50, 4)         0         \n",
      "_________________________________________________________________\n",
      "conv2d_22 (Conv2D)           (None, 50, 50, 8)         808       \n",
      "_________________________________________________________________\n",
      "leaky_re_lu_28 (LeakyReLU)   (None, 50, 50, 8)         0         \n",
      "_________________________________________________________________\n",
      "max_pooling2d_22 (MaxPooling (None, 13, 13, 8)         0         \n",
      "_________________________________________________________________\n",
      "dropout_13 (Dropout)         (None, 13, 13, 8)         0         \n",
      "_________________________________________________________________\n",
      "flatten_7 (Flatten)          (None, 1352)              0         \n",
      "_________________________________________________________________\n",
      "dense_13 (Dense)             (None, 8)                 10824     \n",
      "_________________________________________________________________\n",
      "leaky_re_lu_29 (LeakyReLU)   (None, 8)                 0         \n",
      "_________________________________________________________________\n",
      "dropout_14 (Dropout)         (None, 8)                 0         \n",
      "_________________________________________________________________\n",
      "dense_14 (Dense)             (None, 4)                 36        \n",
      "=================================================================\n",
      "Total params: 11,772\n",
      "Trainable params: 11,772\n",
      "Non-trainable params: 0\n",
      "_________________________________________________________________\n"
     ]
    }
   ],
   "source": [
    "model.summary()"
   ]
  },
  {
   "cell_type": "code",
   "execution_count": 96,
   "metadata": {},
   "outputs": [],
   "source": [
    "# Import EarlyStopping\n",
    "from keras.callbacks import EarlyStopping\n",
    "\n",
    "# Define early_stopping_monitor\n",
    "early_stopping_monitor = EarlyStopping(patience=2)"
   ]
  },
  {
   "cell_type": "code",
   "execution_count": 97,
   "metadata": {},
   "outputs": [
    {
     "name": "stdout",
     "output_type": "stream",
     "text": [
      "Train on 8383 samples, validate on 3593 samples\n",
      "Epoch 1/20\n",
      "8383/8383 [==============================] - 115s 14ms/step - loss: 0.9937 - acc: 0.5423 - val_loss: 0.5030 - val_acc: 0.8500\n",
      "Epoch 2/20\n",
      "8383/8383 [==============================] - 99s 12ms/step - loss: 0.3794 - acc: 0.8512 - val_loss: 0.1041 - val_acc: 0.9917\n",
      "Epoch 3/20\n",
      "8383/8383 [==============================] - 114s 14ms/step - loss: 0.1996 - acc: 0.9289 - val_loss: 0.0490 - val_acc: 0.9939\n",
      "Epoch 4/20\n",
      "8383/8383 [==============================] - 100s 12ms/step - loss: 0.1458 - acc: 0.9507 - val_loss: 0.0319 - val_acc: 0.9961\n",
      "Epoch 5/20\n",
      "8383/8383 [==============================] - 114s 14ms/step - loss: 0.1082 - acc: 0.9685 - val_loss: 0.0257 - val_acc: 0.9964\n",
      "Epoch 6/20\n",
      "8383/8383 [==============================] - 118s 14ms/step - loss: 0.0977 - acc: 0.9721 - val_loss: 0.0178 - val_acc: 0.9975\n",
      "Epoch 7/20\n",
      "8383/8383 [==============================] - 113s 13ms/step - loss: 0.0807 - acc: 0.9776 - val_loss: 0.0162 - val_acc: 0.9978\n",
      "Epoch 8/20\n",
      "8383/8383 [==============================] - 106s 13ms/step - loss: 0.0726 - acc: 0.9803 - val_loss: 0.0159 - val_acc: 0.9978\n",
      "Epoch 9/20\n",
      "8383/8383 [==============================] - 113s 13ms/step - loss: 0.0634 - acc: 0.9812 - val_loss: 0.0137 - val_acc: 0.9981\n",
      "Epoch 10/20\n",
      "8383/8383 [==============================] - 125s 15ms/step - loss: 0.0555 - acc: 0.9841 - val_loss: 0.0139 - val_acc: 0.9978\n",
      "Epoch 11/20\n",
      "8383/8383 [==============================] - 101s 12ms/step - loss: 0.0530 - acc: 0.9863 - val_loss: 0.0108 - val_acc: 0.9975\n",
      "Epoch 12/20\n",
      "8383/8383 [==============================] - 106s 13ms/step - loss: 0.0527 - acc: 0.9852 - val_loss: 0.0100 - val_acc: 0.9981\n",
      "Epoch 13/20\n",
      "8383/8383 [==============================] - 102s 12ms/step - loss: 0.0426 - acc: 0.9882 - val_loss: 0.0091 - val_acc: 0.9978\n",
      "Epoch 14/20\n",
      "8383/8383 [==============================] - 112s 13ms/step - loss: 0.0465 - acc: 0.9895 - val_loss: 0.0061 - val_acc: 0.9978\n",
      "Epoch 15/20\n",
      "8383/8383 [==============================] - 103s 12ms/step - loss: 0.0401 - acc: 0.9899 - val_loss: 0.0051 - val_acc: 0.9981\n",
      "Epoch 16/20\n",
      "8383/8383 [==============================] - 103s 12ms/step - loss: 0.0395 - acc: 0.9900 - val_loss: 0.0081 - val_acc: 0.9978\n",
      "Epoch 17/20\n",
      "8383/8383 [==============================] - 103s 12ms/step - loss: 0.0318 - acc: 0.9920 - val_loss: 0.0051 - val_acc: 0.9981\n"
     ]
    }
   ],
   "source": [
    "train = model.fit(X_train, y_train_one_hot, batch_size=64, epochs=20, verbose=1, \n",
    "                  validation_split=0.3, callbacks=[early_stopping_monitor])"
   ]
  },
  {
   "cell_type": "code",
   "execution_count": 98,
   "metadata": {},
   "outputs": [],
   "source": [
    "model.save(\"model.h5py\")"
   ]
  },
  {
   "cell_type": "code",
   "execution_count": 99,
   "metadata": {},
   "outputs": [
    {
     "name": "stdout",
     "output_type": "stream",
     "text": [
      "2994/2994 [==============================] - 9s 3ms/step\n"
     ]
    }
   ],
   "source": [
    "test_eval = model.evaluate(X_test, y_test_one_hot, verbose=1)"
   ]
  },
  {
   "cell_type": "code",
   "execution_count": 100,
   "metadata": {},
   "outputs": [
    {
     "name": "stdout",
     "output_type": "stream",
     "text": [
      "Test loss: 0.001161137208919749\n",
      "Test accuracy: 0.9996659986639946\n"
     ]
    }
   ],
   "source": [
    "print('Test loss:', test_eval[0])\n",
    "print('Test accuracy:', test_eval[1])"
   ]
  },
  {
   "cell_type": "code",
   "execution_count": 102,
   "metadata": {},
   "outputs": [
    {
     "data": {
      "image/png": "[encoded data removed]",
      "text/plain": [
       "<Figure size 432x288 with 1 Axes>"
      ]
     },
     "metadata": {},
     "output_type": "display_data"
    },
    {
     "data": {
      "image/png": "[encoded data removed]",
      "text/plain": [
       "<Figure size 432x288 with 1 Axes>"
      ]
     },
     "metadata": {},
     "output_type": "display_data"
    }
   ],
   "source": [
    "accuracy = train.history['acc']\n",
    "val_accuracy = train.history['val_acc']\n",
    "loss = train.history['loss']\n",
    "val_loss = train.history['val_loss']\n",
    "epochs = range(len(accuracy))\n",
    "plt.plot(epochs, accuracy, 'bo', label='Training accuracy')\n",
    "plt.plot(epochs, val_accuracy, 'b', label='Validation accuracy')\n",
    "plt.title('Training and validation accuracy')\n",
    "plt.legend()\n",
    "plt.figure()\n",
    "plt.plot(epochs, loss, 'bo', label='Training loss')\n",
    "plt.plot(epochs, val_loss, 'b', label='Validation loss')\n",
    "plt.title('Training and validation loss')\n",
    "plt.legend()\n",
    "plt.show()"
   ]
  },
  {
   "cell_type": "code",
   "execution_count": 104,
   "metadata": {},
   "outputs": [],
   "source": [
    "predicted_classes = model.predict(X_test)"
   ]
  },
  {
   "cell_type": "code",
   "execution_count": 105,
   "metadata": {},
   "outputs": [],
   "source": [
    "predicted_classes = np.argmax(np.round(predicted_classes),axis=1)"
   ]
  },
  {
   "cell_type": "code",
   "execution_count": 107,
   "metadata": {},
   "outputs": [
    {
     "data": {
      "text/plain": [
       "((2994,), (2994,))"
      ]
     },
     "execution_count": 107,
     "metadata": {},
     "output_type": "execute_result"
    }
   ],
   "source": [
    "predicted_classes.shape, y_test.shape"
   ]
  },
  {
   "cell_type": "code",
   "execution_count": 110,
   "metadata": {},
   "outputs": [
    {
     "name": "stdout",
     "output_type": "stream",
     "text": [
      "Found 2993 correct labels\n"
     ]
    },
    {
     "data": {
      "image/png": "[encoded data removed]",
      "text/plain": [
       "<Figure size 432x288 with 4 Axes>"
      ]
     },
     "metadata": {},
     "output_type": "display_data"
    }
   ],
   "source": [
    "correct = np.where(predicted_classes==y_test)[0]\n",
    "print('Found %d correct labels' % len(correct))\n",
    "for i, correct in enumerate(correct[:4]):\n",
    "    plt.subplot(3,3,i+1)\n",
    "    plt.imshow(X_test[correct].reshape(200,200), cmap='gray', interpolation='none')\n",
    "    plt.title(\"Predicted {}, Class {}\".format(predicted_classes[correct], y_test[correct]))\n",
    "    plt.tight_layout()"
   ]
  },
  {
   "cell_type": "code",
   "execution_count": 111,
   "metadata": {},
   "outputs": [
    {
     "name": "stdout",
     "output_type": "stream",
     "text": [
      "Found 1 incorrect labels\n"
     ]
    },
    {
     "data": {
      "image/png": "[encoded data removed]",
      "text/plain": [
       "<Figure size 432x288 with 1 Axes>"
      ]
     },
     "metadata": {},
     "output_type": "display_data"
    }
   ],
   "source": [
    "incorrect = np.where(predicted_classes!=y_test)[0]\n",
    "print('Found %d incorrect labels' % len(incorrect))\n",
    "for i, incorrect in enumerate(incorrect[:4]):\n",
    "    plt.subplot(3,3,i+1)\n",
    "    plt.imshow(X_test[incorrect].reshape(200,200), cmap='gray', interpolation='none')\n",
    "    plt.title(\"Predicted {}, Class {}\".format(predicted_classes[incorrect], y_test[incorrect]))\n",
    "    plt.tight_layout()"
   ]
  },
  {
   "cell_type": "code",
   "execution_count": 112,
   "metadata": {},
   "outputs": [
    {
     "name": "stdout",
     "output_type": "stream",
     "text": [
      "             precision    recall  f1-score   support\n",
      "\n",
      "    Class 0       1.00      1.00      1.00       765\n",
      "    Class 1       1.00      1.00      1.00       723\n",
      "    Class 2       1.00      1.00      1.00       770\n",
      "    Class 3       1.00      1.00      1.00       736\n",
      "\n",
      "avg / total       1.00      1.00      1.00      2994\n",
      "\n"
     ]
    }
   ],
   "source": [
    "from sklearn.metrics import classification_report\n",
    "target_names = [\"Class {}\".format(i) for i in range(4)]\n",
    "print(classification_report(y_test, predicted_classes, target_names=target_names))"
   ]
  },
  {
   "cell_type": "code",
   "execution_count": null,
   "metadata": {},
   "outputs": [],
   "source": []
  }
 ],
 "metadata": {
  "kernelspec": {
   "display_name": "Python 3",
   "language": "python",
   "name": "python3"
  },
  "language_info": {
   "codemirror_mode": {
    "name": "ipython",
    "version": 3
   },
   "file_extension": ".py",
   "mimetype": "text/x-python",
   "name": "python",
   "nbconvert_exporter": "python",
   "pygments_lexer": "ipython3",
   "version": "3.6.4"
  }
 },
 "nbformat": 4,
 "nbformat_minor": 2
}
